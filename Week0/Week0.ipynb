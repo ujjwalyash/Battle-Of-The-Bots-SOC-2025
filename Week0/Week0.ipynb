{
  "cells": [
    {
      "cell_type": "markdown",
      "metadata": {
        "id": "o4BQVnaAHC4F"
      },
      "source": [
        "## PyTorch Tutorial!!!\n",
        "In this assignment, you will be familiarized with the usage of the PyTorch library and how to build a model in two ways  \n",
        "It's quite similar to TensorFlow\n",
        "*   using the inbuilt layers in pytorch\n",
        "*   using custom layers to replicate the same result"
      ]
    },
    {
      "cell_type": "code",
      "execution_count": 40,
      "metadata": {
        "id": "Co1Y3oSoAqHp"
      },
      "outputs": [],
      "source": [
        "import torch\n",
        "import torch.nn as nn\n",
        "import torch.optim as optim\n",
        "from torchvision import datasets, transforms\n",
        "from torch.utils.data import DataLoader\n",
        "import matplotlib.pyplot as plt\n",
        "import math"
      ]
    },
    {
      "cell_type": "code",
      "execution_count": 41,
      "metadata": {},
      "outputs": [],
      "source": [
        "# %pip uninstall torch torchvision -y\n",
        "# %pip install torch torchvision --index-url https://download.pytorch.org/whl/cu118"
      ]
    },
    {
      "cell_type": "code",
      "execution_count": 42,
      "metadata": {},
      "outputs": [
        {
          "name": "stdout",
          "output_type": "stream",
          "text": [
            "2.7.0+cu118\n",
            "11.8\n"
          ]
        }
      ],
      "source": [
        "print(torch.__version__)  # Look for \"+cpu\" in the version string\n",
        "print(torch.version.cuda)  # Should show CUDA version, not None"
      ]
    },
    {
      "cell_type": "code",
      "execution_count": 43,
      "metadata": {},
      "outputs": [
        {
          "name": "stdout",
          "output_type": "stream",
          "text": [
            "Using device: cuda\n"
          ]
        },
        {
          "data": {
            "text/plain": [
              "True"
            ]
          },
          "execution_count": 43,
          "metadata": {},
          "output_type": "execute_result"
        }
      ],
      "source": [
        "# Using the GPU if it exists\n",
        "device = torch.device(\"cuda\" if torch.cuda.is_available() else \"cpu\")\n",
        "print(f\"Using device: {device}\")\n",
        "torch.cuda.is_available()"
      ]
    },
    {
      "cell_type": "markdown",
      "metadata": {
        "id": "n682ZxROHh_1"
      },
      "source": [
        "### Loading and preprocessing the Data\n",
        "We will directly be using the dataset included in literally any library that exists. MNIST really is THAT popular.  \n",
        "Link: https://docs.pytorch.org/vision/0.9/datasets.html#mnist"
      ]
    },
    {
      "cell_type": "code",
      "execution_count": 44,
      "metadata": {
        "id": "8zrkUXY8AvtN"
      },
      "outputs": [],
      "source": [
        "transform = transforms.Compose([transforms.ToTensor()])\n",
        "# transform = transforms.Compose([transforms.ToTensor(), transforms.Normalize((0.5,), (0.5,))])\n",
        "\n",
        "train_dataset = datasets.MNIST(root='./data', train=True, transform=transform, download=True)\n",
        "test_dataset = datasets.MNIST(root='./data', train=False, transform=transform, download=True)\n",
        "\n",
        "train_loader = DataLoader(train_dataset, batch_size=64, shuffle=True, pin_memory=True, num_workers=10)\n",
        "test_loader = DataLoader(test_dataset, batch_size=1000)"
      ]
    },
    {
      "cell_type": "markdown",
      "metadata": {
        "id": "d6W4VEerGYJ8"
      },
      "source": [
        "## Making a simple feedforward network\n",
        "\n",
        "The following is a simple feedforward model with three layers:\n",
        "* a flatten layer to convert our 28x28 images into a single array of length 784\n",
        "* a dense layer of 128 neurons with the relu activation function\n",
        "* finally a dense layer of 10 neurons with the softmax activation to get a distribution between the digits"
      ]
    },
    {
      "cell_type": "code",
      "execution_count": 82,
      "metadata": {
        "colab": {
          "base_uri": "https://localhost:8080/"
        },
        "id": "zwFnJsE6vjf8",
        "outputId": "ac06dbd4-9873-4366-d212-8d784b6eab77"
      },
      "outputs": [],
      "source": [
        "# Build the model\n",
        "SequentialNet = nn.Sequential(\n",
        "    nn.Flatten(),\n",
        "    nn.Linear(784, 128),\n",
        "    nn.ReLU(),\n",
        "    nn.Linear(128, 64),\n",
        "    nn.ReLU(),\n",
        "    nn.Linear(64, 10)\n",
        "\n",
        "    #adding softmax decreases accuracy \n",
        "    # beacuse nn.CrossEntropyLoss applies softmax itself\n",
        ")"
      ]
    },
    {
      "cell_type": "markdown",
      "metadata": {},
      "source": [
        "### Training and Testing loops"
      ]
    },
    {
      "cell_type": "code",
      "execution_count": 55,
      "metadata": {},
      "outputs": [],
      "source": [
        "# Training loop\n",
        "def train(model, loader, optimizer, loss_fn, epochs=5):\n",
        "    model.train()\n",
        "    for epoch in range(epochs):\n",
        "        total_loss = 0\n",
        "        for x, y in loader:\n",
        "            x, y = x.to(device), y.to(device)\n",
        "            optimizer.zero_grad()\n",
        "            logits = model(x)\n",
        "            loss = loss_fn(logits, y)\n",
        "            loss.backward()\n",
        "            optimizer.step()\n",
        "            total_loss += loss.item()\n",
        "        print(f\"Epoch {epoch+1}, Loss: {total_loss:.4f}\")\n",
        "\n",
        "def train_cpu(model, loader, optimizer, loss_fn, epochs=5):\n",
        "    model.train()\n",
        "    for epoch in range(epochs):\n",
        "        total_loss = 0\n",
        "        for x, y in loader:\n",
        "            # x, y = x.to(device), y.to(device)\n",
        "            optimizer.zero_grad()\n",
        "            logits = model(x)\n",
        "            loss = loss_fn(logits, y)\n",
        "            loss.backward()\n",
        "            optimizer.step()\n",
        "            total_loss += loss.item()\n",
        "        # print(logits)\n",
        "        print(f\"Epoch {epoch+1}, Loss: {total_loss:.4f}\")\n",
        "\n",
        "# Testing loop\n",
        "def test(model, loader):\n",
        "    model.eval()\n",
        "    correct = 0\n",
        "    total = 0\n",
        "    with torch.no_grad():\n",
        "        for x, y in loader:\n",
        "            x, y = x.to(device), y.to(device)\n",
        "            logits = model(x)\n",
        "            pred = logits.argmax(dim=1)\n",
        "            correct += (pred == y).sum().item()\n",
        "            total += y.size(0)\n",
        "    print(f\"Accuracy: {100 * correct / total:.2f}%\")\n",
        "def test_cpu(model, loader):\n",
        "    model.eval()\n",
        "    correct = 0\n",
        "    total = 0\n",
        "    with torch.no_grad():\n",
        "        for x, y in loader:\n",
        "            # x, y = x.to(device), y.to(device)\n",
        "            logits = model(x)\n",
        "            pred = logits.argmax(dim=1)\n",
        "            correct += (pred == y).sum().item()\n",
        "            total += y.size(0)\n",
        "    print(f\"Accuracy: {100 * correct / total:.2f}%\")\n"
      ]
    },
    {
      "cell_type": "markdown",
      "metadata": {},
      "source": [
        "### Training the sequential model"
      ]
    },
    {
      "cell_type": "code",
      "execution_count": null,
      "metadata": {},
      "outputs": [
        {
          "name": "stdout",
          "output_type": "stream",
          "text": [
            "\n",
            "Training SequentialNet\n",
            "Epoch 1, Loss: 196.6392\n",
            "Epoch 2, Loss: 81.3366\n",
            "Epoch 3, Loss: 56.7637\n",
            "Epoch 4, Loss: 42.7512\n",
            "Epoch 5, Loss: 33.9570\n",
            "Epoch 6, Loss: 27.3722\n",
            "Epoch 7, Loss: 22.5118\n",
            "Epoch 8, Loss: 18.9366\n",
            "Epoch 9, Loss: 15.7323\n",
            "Epoch 10, Loss: 12.3793\n",
            "Accuracy: 97.68%\n"
          ]
        }
      ],
      "source": [
        "print(\"\\nTraining SequentialNet\")\n",
        "# sequential_model = SequentialNet.to(device)\n",
        "sequential_model = SequentialNet\n",
        "optimizer_seq = optim.Adam(sequential_model.parameters(), lr=0.001)\n",
        "loss_fn = nn.CrossEntropyLoss()\n",
        "\n",
        "train_loader = DataLoader(train_dataset, batch_size=128, shuffle=True, pin_memory=True)\n",
        "# train_loader = DataLoader(train_dataset, batch_size=800, shuffle=True)\n",
        "# train(sequential_model, train_loader, optimizer_seq, loss_fn, epochs=10)\n",
        "train_cpu(sequential_model, train_loader, optimizer_seq, loss_fn, epochs=10)\n",
        "test_cpu(sequential_model, test_loader)"
      ]
    },
    {
      "cell_type": "markdown",
      "metadata": {},
      "source": [
        "using cpu, epoch 10, time 55.2 sec, batch size = 128<br>\n",
        "using gpu, epoch 10, time 43.6 sec, batch size = 128<br><br>\n",
        "\n",
        "using cpu, epoch 10, time 35.4 sec, batch size = 256<br>\n",
        "using gpu, epoch 10, time 36.9 sec, batch size = 256<br><br>\n",
        "\n",
        "using cpu, epoch 2, time 7.5 sec, batch size = 10000<br>\n",
        "using gpu, epoch 2, time 6.5 sec, batch size = 10000<br><br>\n",
        "\n",
        "using cpu, epoch 10, time 31 sec, batch size = 50000<br>\n",
        "using gpu, epoch 10, time 33.6 sec, batch size = 50000<br><br>\n",
        "\n",
        "High batch size decrease gpu usage, optimal(still only 20-30% RTX 3050) at around 128, 256 batch size"
      ]
    },
    {
      "cell_type": "markdown",
      "metadata": {
        "id": "dCEMWK1KLZDT"
      },
      "source": [
        "### Manually building the same network from scratch\n",
        "You can use the simple sequential model we described above as a reference."
      ]
    },
    {
      "cell_type": "code",
      "execution_count": null,
      "metadata": {
        "id": "zw53cAmELYJK"
      },
      "outputs": [],
      "source": [
        "# Custom model\n",
        "class ManualNet(nn.Module):\n",
        "    def __init__(self):\n",
        "        super(ManualNet, self).__init__()\n",
        "        # TODO: Define your paramters using nn.Parameters (the layers)\n",
        "\n",
        "        # change initialization outputs very high compared to sequential net\n",
        "\n",
        "        #this being a list does not allow it to move to gpu when .to() used\n",
        "\n",
        "        self.weights = [torch.nn.Parameter(torch.rand((784, 128))-0.5),\n",
        "                        torch.nn.Parameter(torch.rand((128, 64))-0.5),\n",
        "                        torch.nn.Parameter(torch.rand((64, 10))-0.5)]\n",
        "\n",
        "        self.biases = [torch.nn.Parameter(torch.zeros((1, 128))),\n",
        "                    torch.nn.Parameter(torch.zeros((1, 64))),\n",
        "                    torch.nn.Parameter(torch.zeros((1, 10)))]\n",
        "\n",
        "        self.activation = nn.ReLU()\n",
        "\n",
        "        \n",
        "\n",
        "    def forward(self, x):\n",
        "        x = x.view(-1, 784)\n",
        "        # TODO: Do the forward pass using matrix multiplications and applying activation functions\n",
        "        a = x.clone()\n",
        "        for i in range(len(self.weights) - 1):\n",
        "            # print(a)\n",
        "            # print(torch.matmul(a, self.weights[i]))\n",
        "            # print(\"weights\", self.weights[i])\n",
        "            # break\n",
        "            a = torch.matmul(a, self.weights[i]) + self.biases[i]\n",
        "            a = self.activation(a)\n",
        "    \n",
        "        a = torch.matmul(a, self.weights[-1]) + self.biases[-1]\n",
        "        # print(a)\n",
        "\n",
        "        return a"
      ]
    },
    {
      "cell_type": "markdown",
      "metadata": {},
      "source": [
        "### Training the manual model"
      ]
    },
    {
      "cell_type": "code",
      "execution_count": 86,
      "metadata": {},
      "outputs": [
        {
          "name": "stdout",
          "output_type": "stream",
          "text": [
            "\n",
            "Training ManualNet\n",
            "Epoch: 1, Loss: 170.86883544921875\n",
            "Epoch: 2, Loss: 55.97799301147461\n",
            "Epoch: 3, Loss: 43.24806213378906\n",
            "Epoch: 4, Loss: 35.61440658569336\n",
            "Epoch: 5, Loss: 30.802824020385742\n",
            "Epoch: 6, Loss: 26.88429832458496\n",
            "Epoch: 7, Loss: 24.12229347229004\n",
            "Epoch: 8, Loss: 21.355195999145508\n",
            "Epoch: 9, Loss: 18.976848602294922\n",
            "Epoch: 10, Loss: 17.51992416381836\n",
            "Accuracy: 96.52%\n"
          ]
        }
      ],
      "source": [
        "print(\"\\nTraining ManualNet\")\n",
        "# TODO: Create a ManualNet object and call it manual_model. Train and test it\n",
        "manual_model = ManualNet()\n",
        "# manual_model = manual_model.to(device)\n",
        "# manual_model = manual_model.to(device)\n",
        "\n",
        "\n",
        "# x, y = next(iter(test_loader))\n",
        "# print(x[0].shape)\n",
        "# print(manual_model(x[:1]))\n",
        "\n",
        "#training \n",
        "\n",
        "batch_size = 256\n",
        "train_loader = DataLoader(train_dataset, batch_size=batch_size, shuffle=True, pin_memory=True)\n",
        "\n",
        "rate = 0.1\n",
        "# why does loss = nn.CrossEntropyLoss(out, y) not work\n",
        "loss_fn  = nn.CrossEntropyLoss()\n",
        "\n",
        "# %pip install tqdm\n",
        "from tqdm import tqdm\n",
        "\n",
        "for j in range(10):\n",
        "# for i in tqdm(range(50000)):\n",
        "    # rate = 1/(math.sqrt(i+1))\n",
        "    total_loss = 0\n",
        "    for x, y in train_loader:\n",
        "        # x, y= x.to(device), y.to(device)\n",
        "        out = manual_model(x)\n",
        "\n",
        "        loss = (loss_fn(out, y))\n",
        "        loss.backward()\n",
        "        total_loss += loss\n",
        "\n",
        "        with torch.no_grad():\n",
        "\n",
        "            for i in range(len(manual_model.weights)):\n",
        "                manual_model.weights[i] -= rate*manual_model.weights[i].grad\n",
        "                manual_model.biases[i] -= rate*manual_model.biases[i].grad\n",
        "\n",
        "                # manual_model.weights[i].grad.zero_()\n",
        "                # manual_model.biases[i].grad.zero_()\n",
        "\n",
        "                manual_model.weights[i].grad /= 1.2\n",
        "                manual_model.biases[i].grad /= 1.2\n",
        "\n",
        "    print(f\"Epoch: {j+1}, Loss: {total_loss}\")\n",
        "    # if(i%1 == 0):\n",
        "\n",
        "test_cpu(manual_model, test_loader)\n",
        "            "
      ]
    },
    {
      "cell_type": "markdown",
      "metadata": {},
      "source": [
        "batch size = 256, accuracy = 93.87, epochs =10, lr 0.01, SGD + momentum<br><br>\n",
        "batch size = 256, accuracy = 94.8,  epochs =10, lr 0.1, SGD<br><br>\n",
        "batch size = 256, accuracy = 95.9,  epochs =10, lr 0.05, SGD + momentum<br><br>\n",
        "batch size = 256, accuracy = 96.52, epochs =10, lr 0.1, SGD + momentum<br><br>\n",
        "\n",
        "This learning rate is very high but works for large batch size and SDG, but won't work with Adam so always start from like 0.0001 and go up"
      ]
    },
    {
      "cell_type": "markdown",
      "metadata": {},
      "source": [
        "### Visualize the outputs of the models"
      ]
    },
    {
      "cell_type": "code",
      "execution_count": 94,
      "metadata": {},
      "outputs": [
        {
          "name": "stdout",
          "output_type": "stream",
          "text": [
            "Manual Model\n"
          ]
        },
        {
          "data": {
            "image/png": "[encoded data removed]",
            "text/plain": [
              "<Figure size 1000x200 with 5 Axes>"
            ]
          },
          "metadata": {},
          "output_type": "display_data"
        },
        {
          "name": "stdout",
          "output_type": "stream",
          "text": [
            "Sequential Model\n"
          ]
        },
        {
          "data": {
            "image/png": "[encoded data removed]",
            "text/plain": [
              "<Figure size 1000x200 with 5 Axes>"
            ]
          },
          "metadata": {},
          "output_type": "display_data"
        }
      ],
      "source": [
        "def visualize(model, model2, loader, n=5):\n",
        "    model.eval()\n",
        "    x, y = next(iter(loader))\n",
        "    preds = model(x).argmax(dim=1)\n",
        "    # x, y = x.to(device), y.to(device)\n",
        "    preds2 = model2(x).argmax(dim=1)\n",
        "\n",
        "    plt.figure(figsize=(10, 2))\n",
        "    i = 0\n",
        "    j = 0\n",
        "    \n",
        "    print(\"Manual Model\")\n",
        "    indicies = [0]*n\n",
        "    while True:\n",
        "        if y[i].item() != preds2[i].item():\n",
        "            plt.subplot(1, n, j+1)\n",
        "            plt.imshow(x[i].cpu().squeeze(), cmap='gray')\n",
        "            plt.title(f\"T:{y[i].item()} P:{preds2[i].item()}\")\n",
        "            plt.axis('off')\n",
        "            indicies[j] = i\n",
        "            j += 1\n",
        "            if j > 4:\n",
        "                break\n",
        "        i += 1\n",
        "    plt.show()\n",
        "    \n",
        "    print(\"Sequential Model\")\n",
        "    j = 0\n",
        "    plt.figure(figsize=(10, 2))\n",
        "    for i in indicies:\n",
        "        plt.subplot(1, n, j+1)\n",
        "        plt.imshow(x[i].cpu().squeeze(), cmap='gray')\n",
        "        plt.title(f\"T:{y[i].item()} P:{preds[i].item()}\")\n",
        "        plt.axis('off')\n",
        "        j += 1\n",
        "    plt.show()\n",
        "\n",
        "\n",
        "test_loader = DataLoader(test_dataset, batch_size=1000, shuffle=True)\n",
        "# indicies = visualize(manual_model, test_loader, None, False) # Uncomment this later\n",
        "visualize(sequential_model, manual_model, test_loader)\n",
        "# visualize(manual_model, sequential_model, test_loader)"
      ]
    },
    {
      "cell_type": "markdown",
      "metadata": {
        "id": "K_ymh-5LLyMY"
      },
      "source": [
        "## Assignment\n",
        "* Load and preprocess CIFAR100 dataset (not CIFAR10)\n",
        "* Build a feedforward network for it. You can experiment around with number of layers and and neurons in each layer and different activation functions\n",
        "* You are allowed to use nn.functional. (convolutions _might_ make your accuracy better)"
      ]
    },
    {
      "cell_type": "markdown",
      "metadata": {},
      "source": [
        "# Bonus Assignment\n",
        "* Try the solving the \"Titanic Survival Prediction\" dataset from kaggle"
      ]
    }
  ],
  "metadata": {
    "colab": {
      "name": "Welcome To Colab",
      "provenance": [],
      "toc_visible": true
    },
    "kernelspec": {
      "display_name": ".venv",
      "language": "python",
      "name": "python3"
    },
    "language_info": {
      "codemirror_mode": {
        "name": "ipython",
        "version": 3
      },
      "file_extension": ".py",
      "mimetype": "text/x-python",
      "name": "python",
      "nbconvert_exporter": "python",
      "pygments_lexer": "ipython3",
      "version": "3.12.7"
    }
  },
  "nbformat": 4,
  "nbformat_minor": 0
}
